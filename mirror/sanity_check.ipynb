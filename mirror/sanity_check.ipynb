{
 "cells": [
  {
   "cell_type": "markdown",
   "id": "1c1a0beb-6bf6-4a5c-bd7a-2d7c5d3d1924",
   "metadata": {},
   "source": [
    "Quick \"sanity check\" script to test your submission 'mySokobanSolver.ipynb'\n",
    "\n",
    "This is not an exhaustive test program. It is only intended to catch major\n",
    "blunders!\n",
    "\n",
    "You should design your own test cases and write your own test functions.\n",
    "\n",
    "Although a different script (with different inputs) will be used for \n",
    "marking your code, make sure that your code runs without errors with this script.\n",
    "Quick \"sanity check\" script to test your submission 'mySokobanSolver.py'\n",
    "\n",
    "This is not an exhaustive test program. It is only intended to catch major\n",
    "blunders!\n",
    "\n",
    "You should design your own test cases and write your own test functions.\n",
    "\n",
    "Although a different script (with different inputs) will be used for \n",
    "marking your code, make sure that your code runs without errors with this script.\n"
   ]
  },
  {
   "cell_type": "code",
   "execution_count": null,
   "id": "11093ab2-8d58-4181-b3d3-aa6982ebd147",
   "metadata": {},
   "outputs": [],
   "source": [
    "# Set up and import useful functionality \n",
    "\n",
    "# https://saturncloud.io/blog/how-to-import-jupyter-notebooks-to-another-jupyter-notebook/\n",
    "!pip install import_ipynb # should only need to run once\n",
    "import import_ipynb # allows you to use other *.ipynb files\n",
    "import sokoban     # defines the problem domain\n",
    "import search      # such as search tools written by course textbook and similar to week 3\n",
    "import itertools # please see https://docs.python.org/3/library/itertools.html\n",
    "import time # please investigate external files\n",
    "\n",
    "# you may need to restart the server if the import_ ipynb works but sokoban can't be found...\n",
    "\n"
   ]
  },
  {
   "cell_type": "code",
   "execution_count": null,
   "id": "1c2d1954-d898-47ba-a633-4b4ea3336660",
   "metadata": {},
   "outputs": [],
   "source": [
    "# Import the domain\n",
    "from sokoban import Warehouse\n",
    "\n",
    "# WillSolver is the worked solution, which will not be made public as summative assessment\n",
    "try:\n",
    "    from WillSolver import taboo_cells, solve_weighted_sokoban, check_elem_action_seq\n",
    "    print(\"Using Will's solver\")\n",
    "except ModuleNotFoundError:\n",
    "    from mySokobanSolver import taboo_cells, solve_weighted_sokoban, check_elem_action_seq\n",
    "    print(\"Using submitted solver\")"
   ]
  },
  {
   "cell_type": "code",
   "execution_count": null,
   "id": "86014ec3-d004-4751-b076-d60e429f6895",
   "metadata": {},
   "outputs": [],
   "source": [
    "# Checks Taboo list\n",
    "\n",
    "def test_taboo_cells():\n",
    "    wh = Warehouse()\n",
    "    wh.load_warehouse(\"./warehouses/warehouse_01.txt\")\n",
    "    expected_answer = '####  \\n#X #  \\n#  ###\\n#   X#\\n#   X#\\n#XX###\\n####  '\n",
    "    answer = taboo_cells(wh)\n",
    "    fcn = test_taboo_cells    \n",
    "    print('<<  Testing {} >>'.format(fcn.__name__))\n",
    "    if answer==expected_answer:\n",
    "        print(fcn.__name__, ' passed!  :-)\\n')\n",
    "    else:\n",
    "        print(fcn.__name__, ' failed!  :-(\\n')\n",
    "        print('Expected ');print(expected_answer)\n",
    "        print('But, received ');print(answer)\n",
    "        "
   ]
  },
  {
   "cell_type": "code",
   "execution_count": null,
   "id": "5fae0293-a35b-4b5a-9486-193c793a8d53",
   "metadata": {},
   "outputs": [],
   "source": [
    "# Checks action sequence\n",
    "\n",
    "def test_check_elem_action_seq():\n",
    "    wh = Warehouse()\n",
    "    wh.load_warehouse(\"./warehouses/warehouse_01.txt\")\n",
    "    # first test\n",
    "    answer = check_elem_action_seq(wh, ['Right', 'Right','Down'])\n",
    "    expected_answer = '####  \\n# .#  \\n#  ###\\n#*   #\\n#  $@#\\n#  ###\\n####  '\n",
    "    print('<<  check_elem_action_seq, test 1>>')\n",
    "    if answer==expected_answer:\n",
    "        print('Test 1 passed!  :-)\\n')\n",
    "    else:\n",
    "        print('Test 1 failed!  :-(\\n')\n",
    "        print('Expected ');print(expected_answer)\n",
    "        print('But, received ');print(answer)\n",
    "    # second test\n",
    "    answer = check_elem_action_seq(wh, ['Right', 'Right','Right'])\n",
    "    expected_answer = 'Impossible'\n",
    "    print('<<  check_elem_action_seq, test 2>>')\n",
    "    if answer==expected_answer:\n",
    "        print('Test 2 passed!  :-)\\n')\n",
    "    else:\n",
    "        print('Test 2 failed!  :-(\\n')\n",
    "        print('Expected ');print(expected_answer)\n",
    "        print('But, received ');print(answer)\n"
   ]
  },
  {
   "cell_type": "code",
   "execution_count": null,
   "id": "dbffd388-f5f7-4ebb-830a-ca842276b527",
   "metadata": {},
   "outputs": [],
   "source": [
    "# Checks weighted version of the problem\n",
    "\n",
    "def test_solve_weighted_sokoban():\n",
    "    wh = Warehouse()    \n",
    "    wh.load_warehouse( \"./warehouses/warehouse_8a.txt\")\n",
    "    # first test\n",
    "    answer, cost = solve_weighted_sokoban(wh)\n",
    "\n",
    "    expected_answer = ['Up', 'Left', 'Up', 'Left', 'Left', 'Down', 'Left', \n",
    "                       'Down', 'Right', 'Right', 'Right', 'Up', 'Up', 'Left', \n",
    "                       'Down', 'Right', 'Down', 'Left', 'Left', 'Right', \n",
    "                       'Right', 'Right', 'Right', 'Right', 'Right', 'Right'] \n",
    "    expected_cost = 431\n",
    "    print('<<  test_solve_weighted_sokoban >>')\n",
    "    if answer==expected_answer:\n",
    "        print(' Answer as expected!  :-)\\n')\n",
    "    else:\n",
    "        print('unexpected answer!  :-(\\n')\n",
    "        print('Expected ');print(expected_answer)\n",
    "        print('But, received ');print(answer)\n",
    "        print('Your answer is different but it might still be correct')\n",
    "        print('Check that you pushed the right box onto the left target!')\n",
    "    print(f'Your cost = {cost}, expected cost = {expected_cost}')\n",
    "        "
   ]
  },
  {
   "cell_type": "code",
   "execution_count": null,
   "id": "ac6e78f0-af1c-4755-a6f9-d62de56480d1",
   "metadata": {},
   "outputs": [],
   "source": [
    "# main function that calls all the Very basic checks\n",
    "\n",
    "if __name__ == \"__main__\":\n",
    "    pass    \n",
    "    \n",
    "#    print(my_team())  # should print your team # run once and check it works!\n",
    "\n",
    "    test_taboo_cells() \n",
    "    test_check_elem_action_seq()\n",
    "    test_solve_weighted_sokoban()"
   ]
  }
 ],
 "metadata": {
  "kernelspec": {
   "display_name": "Python 3 (ipykernel)",
   "language": "python",
   "name": "python3"
  },
  "language_info": {
   "codemirror_mode": {
    "name": "ipython",
    "version": 3
   },
   "file_extension": ".py",
   "mimetype": "text/x-python",
   "name": "python",
   "nbconvert_exporter": "python",
   "pygments_lexer": "ipython3",
   "version": "3.12.9"
  }
 },
 "nbformat": 4,
 "nbformat_minor": 5
}
